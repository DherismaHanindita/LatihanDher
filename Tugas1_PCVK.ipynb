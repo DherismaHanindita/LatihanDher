{
  "nbformat": 4,
  "nbformat_minor": 0,
  "metadata": {
    "colab": {
      "provenance": [],
      "authorship_tag": "ABX9TyMgCDVP0+eJjNtfqx64y0uI",
      "include_colab_link": true
    },
    "kernelspec": {
      "name": "python3",
      "display_name": "Python 3"
    },
    "language_info": {
      "name": "python"
    }
  },
  "cells": [
    {
      "cell_type": "markdown",
      "metadata": {
        "id": "view-in-github",
        "colab_type": "text"
      },
      "source": [
        "<a href=\"https://colab.research.google.com/github/DherismaHanindita/LatihanDher/blob/master/Tugas1_PCVK.ipynb\" target=\"_parent\"><img src=\"https://colab.research.google.com/assets/colab-badge.svg\" alt=\"Open In Colab\"/></a>"
      ]
    },
    {
      "cell_type": "markdown",
      "source": [
        "Identitas\n",
        "<p>Nama: Dherisma Hanindita Utami\n"
      ],
      "metadata": {
        "id": "Y31Qfsjh8pr_"
      }
    },
    {
      "cell_type": "code",
      "execution_count": null,
      "metadata": {
        "id": "sfvbaG3i8n3S"
      },
      "outputs": [],
      "source": []
    }
  ]
}